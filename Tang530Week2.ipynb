{
 "cells": [
  {
   "cell_type": "code",
   "execution_count": 10,
   "id": "af6da4c8",
   "metadata": {},
   "outputs": [
    {
     "name": "stdout",
     "output_type": "stream",
     "text": [
      "Hello, world\n",
      "add 5 and 7 is 12\n",
      "subtract 7 from 5 is 2\n",
      "multiply 2 and 3 is 6\n",
      "divide 2 out of 20 is 10.0\n",
      "I live in Texas\n",
      "['Tesla', 'BYD', 'Rivian', 'Lucid']\n",
      "['Leaf', 'Tesla', 'BYD', 'Rivian', 'Lucid']\n",
      "('10mm', '2 inches', 10, 2)\n"
     ]
    }
   ],
   "source": [
    "print(\"Hello, world\")\n",
    "count1 = 5 + 7\n",
    "print('add 5 and 7 is', count1)\n",
    "count2 = 7 - 5\n",
    "print('subtract 7 from 5 is', count2)\n",
    "print('multiply 2 and 3 is', 2*3)\n",
    "print('divide 2 out of 20 is', 20/2)\n",
    "str1 = 'I live'\n",
    "str2 = ' in Texas'\n",
    "print(str1+str2)\n",
    "Ecar = ['Tesla','BYD','Rivian','Lucid']\n",
    "print(Ecar)\n",
    "Ecar.insert(0, 'Leaf')\n",
    "print(Ecar)\n",
    "Dimensions = ('10mm','2 inches', 10, 2)\n",
    "print(Dimensions)"
   ]
  },
  {
   "cell_type": "code",
   "execution_count": null,
   "id": "74458242",
   "metadata": {},
   "outputs": [],
   "source": []
  }
 ],
 "metadata": {
  "kernelspec": {
   "display_name": "Python 3 (ipykernel)",
   "language": "python",
   "name": "python3"
  },
  "language_info": {
   "codemirror_mode": {
    "name": "ipython",
    "version": 3
   },
   "file_extension": ".py",
   "mimetype": "text/x-python",
   "name": "python",
   "nbconvert_exporter": "python",
   "pygments_lexer": "ipython3",
   "version": "3.11.4"
  }
 },
 "nbformat": 4,
 "nbformat_minor": 5
}
