{
 "cells": [
  {
   "cell_type": "markdown",
   "id": "9d7d9e52",
   "metadata": {},
   "source": [
    "### DSC540 week 11 an 12 assignment\n",
    "#### Austhor: Xin Tang\n",
    "#### Date 2/30/24"
   ]
  },
  {
   "cell_type": "code",
   "execution_count": 1,
   "id": "57af3d8c",
   "metadata": {},
   "outputs": [],
   "source": [
    "# import necessary packages\n",
    "\n",
    "import sqlite3"
   ]
  },
  {
   "cell_type": "markdown",
   "id": "f088c2df",
   "metadata": {},
   "source": [
    "##### Activity 11: Retrieving Data Correctly From Databases\n",
    "###### 2 tables: persons table and pet table, the id column in the persons table (which is an integer) serves as the primary key for that table and as a foreign key for the pet table, which is linked via the owner_id column."
   ]
  },
  {
   "cell_type": "code",
   "execution_count": 2,
   "id": "cea74430",
   "metadata": {},
   "outputs": [],
   "source": [
    "# Person table has: first_name; lat_name; age; city; zip_code\n",
    "# Pet table has: pet_name; pet_type; treatment_done flag\n",
    "# DB is petsdb, which has been loaded into same directory"
   ]
  },
  {
   "cell_type": "code",
   "execution_count": 2,
   "id": "c92a546d",
   "metadata": {},
   "outputs": [
    {
     "name": "stdout",
     "output_type": "stream",
     "text": [
      "True\n"
     ]
    }
   ],
   "source": [
    "# step1: Connect to database and check the connection status:\n",
    "\n",
    "conn = sqlite3.connect(\"petsdb\")\n",
    "\n",
    "#check if connection is good\n",
    "def is_opened(conn):\n",
    "    try:\n",
    "        conn.execute(\"SELECT * FROM persons LIMIT 1\")\n",
    "        return True\n",
    "    except sqlite3.ProgrammingError as e:\n",
    "        print(\"Connection closed {}\".format(e))\n",
    "        return False\n",
    "    \n",
    "#print(is_opened(conn))    "
   ]
  },
  {
   "cell_type": "code",
   "execution_count": 3,
   "id": "5a30d006",
   "metadata": {},
   "outputs": [],
   "source": [
    "conn.close()"
   ]
  },
  {
   "cell_type": "code",
   "execution_count": 4,
   "id": "a415f040",
   "metadata": {},
   "outputs": [
    {
     "name": "stdout",
     "output_type": "stream",
     "text": [
      "We have 2 people aged 5\n",
      "We have 1 people aged 6\n",
      "We have 1 people aged 7\n",
      "We have 3 people aged 8\n",
      "We have 1 people aged 9\n",
      "We have 2 people aged 11\n",
      "We have 3 people aged 12\n",
      "We have 1 people aged 13\n",
      "We have 4 people aged 14\n",
      "We have 2 people aged 16\n",
      "We have 2 people aged 17\n",
      "We have 3 people aged 18\n",
      "We have 1 people aged 19\n",
      "We have 3 people aged 22\n",
      "We have 2 people aged 23\n",
      "We have 3 people aged 24\n",
      "We have 2 people aged 25\n",
      "We have 1 people aged 27\n",
      "We have 1 people aged 30\n",
      "We have 3 people aged 31\n",
      "We have 1 people aged 32\n",
      "We have 1 people aged 33\n",
      "We have 2 people aged 34\n",
      "We have 3 people aged 35\n",
      "We have 3 people aged 36\n",
      "We have 1 people aged 37\n",
      "We have 2 people aged 39\n",
      "We have 1 people aged 40\n",
      "We have 1 people aged 42\n",
      "We have 2 people aged 44\n",
      "We have 2 people aged 48\n",
      "We have 1 people aged 49\n",
      "We have 1 people aged 50\n",
      "We have 2 people aged 51\n",
      "We have 2 people aged 52\n",
      "We have 2 people aged 53\n",
      "We have 2 people aged 54\n",
      "We have 1 people aged 58\n",
      "We have 1 people aged 59\n",
      "We have 1 people aged 60\n",
      "We have 1 people aged 61\n",
      "We have 2 people aged 62\n",
      "We have 1 people aged 63\n",
      "We have 2 people aged 65\n",
      "We have 2 people aged 66\n",
      "We have 1 people aged 67\n",
      "We have 3 people aged 68\n",
      "We have 1 people aged 69\n",
      "We have 1 people aged 70\n",
      "We have 4 people aged 71\n",
      "We have 1 people aged 72\n",
      "We have 5 people aged 73\n",
      "We have 3 people aged 74\n"
     ]
    }
   ],
   "source": [
    "# Step2. Find the different age groups in the persons database\n",
    "\n",
    "#open database again\n",
    "conn = sqlite3.connect(\"petsdb\")\n",
    "c = conn.cursor()\n",
    "\n",
    "#use  count to get total number, use GROUP BY to get specific group\n",
    "for ppl, age in c.execute(\"SELECT count(*), age FROM persons GROUP BY age\"):\n",
    "    print(\"We have {} people aged {}\".format(ppl, age))"
   ]
  },
  {
   "cell_type": "code",
   "execution_count": 7,
   "id": "2d98edfb",
   "metadata": {},
   "outputs": [
    {
     "name": "stdout",
     "output_type": "stream",
     "text": [
      "Highest number of people 5 came from 73 age group\n"
     ]
    }
   ],
   "source": [
    "# Step 3. Find the age group that has the maximum number of people\n",
    "\n",
    "# use order by to get resylt ordered, then break after first print\n",
    "\n",
    "for ppl, age in c.execute(\"SELECT count(*), age FROM persons GROUP BY age ORDER BY count(*) DESC\"):\n",
    "    print(\"Highest number of people {} came from {} age group\".format(ppl, age))\n",
    "    break"
   ]
  },
  {
   "cell_type": "code",
   "execution_count": 11,
   "id": "ede6f097",
   "metadata": {},
   "outputs": [
    {
     "name": "stdout",
     "output_type": "stream",
     "text": [
      "60 people do not have a last name\n"
     ]
    }
   ],
   "source": [
    "# Step4. Find the people who do not have a last name\n",
    "\n",
    "# use IS null to find NA\n",
    "res = c.execute(\"SELECT count(*) FROM persons WHERE last_name IS null\")\n",
    "for row in res:\n",
    "    print(row[0], 'people do not have a last name')"
   ]
  },
  {
   "cell_type": "code",
   "execution_count": 31,
   "id": "d3b059c8",
   "metadata": {},
   "outputs": [
    {
     "name": "stdout",
     "output_type": "stream",
     "text": [
      "43 People has more than one pets\n"
     ]
    }
   ],
   "source": [
    "# Step5. Find out how many people have more than one pet\n",
    "\n",
    "#this can be done using owner_id from pet table\n",
    "#first use count(owner_id)>1 to filter out any owner with one or less pet\n",
    "#then use group by to select unique owner_id \n",
    "#last count of unique group by owner_id\n",
    "\n",
    "res = c.execute(\"SELECT count(*) FROM (SELECT count(owner_id) FROM pets GROUP BY owner_id HAVING count(owner_id) >1)\")\n",
    "for pet_owner in res:\n",
    "    print(\"{} People has more than one pets\".format(pet_owner[0]))"
   ]
  },
  {
   "cell_type": "code",
   "execution_count": 24,
   "id": "dfd6ae0e",
   "metadata": {},
   "outputs": [
    {
     "name": "stdout",
     "output_type": "stream",
     "text": [
      "36 pets have treatments\n"
     ]
    }
   ],
   "source": [
    "# Step 6. Find out how many pets have received treatment\n",
    "\n",
    "res = c.execute(\"SELECT count(*) FROM pets WHERE treatment_done=1\")\n",
    "for row_treated in res:\n",
    "    print(row_treated[0], 'pets have treatments')"
   ]
  },
  {
   "cell_type": "code",
   "execution_count": 25,
   "id": "e590eeab",
   "metadata": {},
   "outputs": [
    {
     "name": "stdout",
     "output_type": "stream",
     "text": [
      "16\n"
     ]
    }
   ],
   "source": [
    "# Step 7. Find out how many pets have received treatment and the type of pet is known.\n",
    "\n",
    "#same table, use AND to combine condition\n",
    "res = c.execute(\"SELECT count(*) FROM pets WHERE treatment_done=1 AND pet_type IS NOT null\")\n",
    "for row in res:\n",
    "    print(row[0])"
   ]
  },
  {
   "cell_type": "code",
   "execution_count": 26,
   "id": "6ab76e86",
   "metadata": {},
   "outputs": [
    {
     "name": "stdout",
     "output_type": "stream",
     "text": [
      "49 pets are from east port\n"
     ]
    }
   ],
   "source": [
    "#Step 8. How many pets are there from the city called \"east port\"\n",
    "\n",
    "# this need both tables and JOIN-ON function, use persons table to get city and map to pets table \n",
    "res = c.execute(\"SELECT count(*) FROM pets JOIN persons ON pets.owner_id = persons.id WHERE persons.city='east port'\")\n",
    "for row1 in res:\n",
    "    print(row1[0], 'pets are from east port')"
   ]
  },
  {
   "cell_type": "code",
   "execution_count": 29,
   "id": "d05338f2",
   "metadata": {},
   "outputs": [
    {
     "name": "stdout",
     "output_type": "stream",
     "text": [
      "11 pets are from east port have been treated\n"
     ]
    }
   ],
   "source": [
    "#Step 9. Find out how many pets are from the city called east port and who received a treatment.\n",
    "\n",
    "# this also need both tables. variable from both tables has condition.\n",
    "res = c.execute(\"SELECT count(*) FROM pets JOIN persons ON pets.owner_id = persons.id WHERE persons.city='east port' AND pets.treatment_done=1\")\n",
    "\n",
    "for row2 in res:\n",
    "    print(row2[0], 'pets are from east port have been treated')"
   ]
  },
  {
   "cell_type": "code",
   "execution_count": null,
   "id": "ce05633a",
   "metadata": {},
   "outputs": [],
   "source": []
  }
 ],
 "metadata": {
  "kernelspec": {
   "display_name": "Python 3 (ipykernel)",
   "language": "python",
   "name": "python3"
  },
  "language_info": {
   "codemirror_mode": {
    "name": "ipython",
    "version": 3
   },
   "file_extension": ".py",
   "mimetype": "text/x-python",
   "name": "python",
   "nbconvert_exporter": "python",
   "pygments_lexer": "ipython3",
   "version": "3.11.4"
  }
 },
 "nbformat": 4,
 "nbformat_minor": 5
}
