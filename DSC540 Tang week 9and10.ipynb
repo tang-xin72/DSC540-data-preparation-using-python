{
 "cells": [
  {
   "cell_type": "markdown",
   "id": "dbc1da3f",
   "metadata": {},
   "source": [
    "### DSC540 week 9 an 10 assignment\n",
    "#### Austhor: Xin Tang\n",
    "#### Date 1/30/24"
   ]
  },
  {
   "cell_type": "code",
   "execution_count": 1,
   "id": "e6a53efc",
   "metadata": {},
   "outputs": [],
   "source": [
    "# Task1: import necessary packages\n",
    "import numpy as np\n",
    "import pandas as pd\n",
    "from bs4 import BeautifulSoup\n",
    "import matplotlib.pyplot as plt\n",
    "import re\n",
    "import ssl\n",
    "import urllib.request, urllib.parse, urllib.error\n",
    "import requests\n",
    "import json"
   ]
  },
  {
   "cell_type": "markdown",
   "id": "a08f3118",
   "metadata": {},
   "source": [
    "### Exercise 1\n",
    "#### Activity 9: scrape the URL of Project Gutenberg's Top 100 eBooks to identify the eBooks' links."
   ]
  },
  {
   "cell_type": "code",
   "execution_count": 2,
   "id": "8dbef08b",
   "metadata": {},
   "outputs": [
    {
     "data": {
      "text/plain": [
       "' went to Gutenberg.org, clicked the web page and it has https, so it has SSL certificate\\n'"
      ]
     },
     "execution_count": 2,
     "metadata": {},
     "output_type": "execute_result"
    }
   ],
   "source": [
    "# Task2: Check the SSL certificate.\n",
    "''' went to Gutenberg.org, clicked the web page and it has https, so it has SSL certificate\n",
    "'''\n",
    "#ctx = ssl.create_default_context()\n",
    "#ctx.check_hostname = False\n",
    "#ctx.verify_mode = ssl.CERT_NONE"
   ]
  },
  {
   "cell_type": "code",
   "execution_count": 3,
   "id": "16080cab",
   "metadata": {},
   "outputs": [
    {
     "name": "stdout",
     "output_type": "stream",
     "text": [
      "200\n"
     ]
    }
   ],
   "source": [
    "# activity3: Read the HTML from the URL\n",
    "# fine the top 100 book list link and copy it\n",
    "url = 'https://gutenberg.org/browse/scores/top'\n",
    "response = requests.get(url)\n",
    "print(response.status_code)"
   ]
  },
  {
   "cell_type": "code",
   "execution_count": 4,
   "id": "b4b2b6dc",
   "metadata": {},
   "outputs": [
    {
     "name": "stdout",
     "output_type": "stream",
     "text": [
      "web request is success!\n"
     ]
    }
   ],
   "source": [
    "# activity 4: write a function to check the status of web request\n",
    "def response_return(request):\n",
    "    if request.status_code==200:\n",
    "        print(\"web request is success!\")\n",
    "        \n",
    "    else:\n",
    "        print(\"request failed!\")\n",
    "       \n",
    "    \n",
    "response_return(response)    "
   ]
  },
  {
   "cell_type": "code",
   "execution_count": 5,
   "id": "95e7a57b",
   "metadata": {},
   "outputs": [],
   "source": [
    "# activity 5: Decode the response and pass this on to BeautifulSoup for HTML parsing\n",
    "contents = response.content.decode(response.encoding)\n",
    "soup = BeautifulSoup(contents, 'html.parser')"
   ]
  },
  {
   "cell_type": "code",
   "execution_count": 16,
   "id": "c1c627b9",
   "metadata": {},
   "outputs": [],
   "source": [
    "# Activity 6: Find all the href tags and store them in the list of links\n",
    "\n",
    "b_list=[]\n",
    "'''\n",
    "looks like teh first book is shown as this. start with 'a herf=', first book is ebooks/84\n",
    "<a href=\"/ebooks/84\">Frankenstein; Or, The Modern Prometheus by Mary Wollstonecraft Shelley (1649)</a>\n",
    "<a href=\"/ebooks/160\">The Awakening, and Selected Short Stories by Kate Chopin (121)</a>\n",
    "'''\n",
    "#Find href tags and store them in the b_list\n",
    "#check the returned link\n",
    "#link=soup.find_all('a')\n",
    "#print(link)\n",
    "for link in soup.find_all('a'):\n",
    "    b_list.append(link.get('href'))\n",
    "    \n",
    "#b_list[:140]\n",
    "#first book from top 100books from yesterday is number 33 in list with number as 84\n",
    "# the last book is number 133 in list with book number as 160\n"
   ]
  },
  {
   "cell_type": "code",
   "execution_count": 17,
   "id": "7af84fa3",
   "metadata": {},
   "outputs": [],
   "source": [
    "'''\n",
    "# activity7: Use a regular expression to find the numeric digits in these links\n",
    "#activity 8: Initialize the empty list to hold the file numbers over an appropriate range\n",
    "             use regex to find the numeric digits in the link href string. Use the findall method.\n",
    "'''\n",
    "# build another empty list\n",
    "topbooknum=[]\n",
    "\n",
    "#use list index to find the books\n",
    "for i in range(33,133):\n",
    "    link=b_list[i]\n",
    "    link=link.strip()\n",
    "    # use Regular expression to find the numeric 0-9 in the string, #append the book number to list\n",
    "    n=re.findall('[0-9]+',link)\n",
    "    if len(n)==1:\n",
    "        topbooknum.append(int(n[0]))"
   ]
  },
  {
   "cell_type": "code",
   "execution_count": 7,
   "id": "a5b426aa",
   "metadata": {},
   "outputs": [
    {
     "name": "stdout",
     "output_type": "stream",
     "text": [
      "[84, 63283, 1342, 2701, 1513, 145, 100, 2641, 37106, 64317, 16389, 11, 6761, 394, 4085, 1080, 67979, 24869, 5197, 174, 844, 2160, 2542, 1259, 5200, 6593, 25344, 76, 98, 72782, 2554, 36034, 72786, 1952, 345, 1400, 6130, 408, 46, 1260, 219, 43, 2591, 1232, 41445, 28054, 1998, 3207, 1661, 1727, 2600, 23, 72781, 2814, 26272, 5740, 15399, 42324, 768, 205, 41128, 58585, 996, 2852, 1497, 72776, 55, 3296, 244, 1184, 5827, 45, 16, 4300, 16328, 74, 514, 67098, 851, 7370, 829, 2148, 8492, 19942, 158, 10, 120, 1934, 36, 20203, 8800, 30254, 1251, 35899, 2680, 41, 4363, 27827, 72785, 160]\n"
     ]
    }
   ],
   "source": [
    "#cross check the result with webpage\n",
    "print(topbooknum)"
   ]
  },
  {
   "cell_type": "code",
   "execution_count": 7,
   "id": "1750f208",
   "metadata": {},
   "outputs": [],
   "source": [
    "#activity 9: What does the soup object's text look like? Use the .text method and print only the first 2,000 characters\n",
    "# a lot of empty space, the length 6555 include all 100 books.\n",
    "#print(soup.text[:6555])"
   ]
  },
  {
   "cell_type": "code",
   "execution_count": 6,
   "id": "23b1385c",
   "metadata": {},
   "outputs": [],
   "source": [
    "#activity 10: Search in the extracted text, find name of the top 100 books\n",
    "#create book name list\n",
    "bokname = []\n",
    "#find start index\n",
    "start_idx=soup.text.splitlines().index('Top 100 EBooks yesterday')\n"
   ]
  },
  {
   "cell_type": "code",
   "execution_count": 7,
   "id": "4b832d93",
   "metadata": {},
   "outputs": [
    {
     "name": "stdout",
     "output_type": "stream",
     "text": [
      "108\n"
     ]
    }
   ],
   "source": [
    "import pprint\n",
    "#first 8 are no related list items as topxxxx, so total are 108 items in list\n",
    "for i in range(108):\n",
    "    bokname.append(soup.text.splitlines()[start_idx+2+i])\n",
    "#print(bokname) \n",
    "#pprint.pprint(bokname)   \n",
    "print(len(bokname))"
   ]
  },
  {
   "cell_type": "code",
   "execution_count": 16,
   "id": "22368c08",
   "metadata": {},
   "outputs": [],
   "source": [
    "'''\n",
    "create empty title list, then iternate through whole list to find letters ,special characters or \n",
    "no enlish characters like é \n",
    "'''\n",
    "lst_titles=[]\n",
    "for i in range(108):\n",
    "    id1,id2=re.match('^[a-zA-Zé\\s;,. ]*',bokname[i]).span()\n",
    "    lst_titles.append(bokname[i][id1:id2])"
   ]
  },
  {
   "cell_type": "code",
   "execution_count": 17,
   "id": "84dd644a",
   "metadata": {},
   "outputs": [
    {
     "name": "stdout",
     "output_type": "stream",
     "text": [
      "Frankenstein; Or, The Modern Prometheus by Mary Wollstonecraft Shelley \n",
      "New Mexico Magazine\n",
      "Pride and Prejudice by Jane Austen \n",
      "Moby Dick; Or, The Whale by Herman Melville \n",
      "Romeo and Juliet by William Shakespeare \n",
      "Middlemarch by George Eliot \n",
      "The Complete Works of William Shakespeare by William Shakespeare \n",
      "A Room with a View by E. M.  Forster \n",
      "Little Women; Or, Meg, Jo, Beth, and Amy by Louisa May Alcott \n",
      "The Great Gatsby by F. Scott  Fitzgerald \n",
      "The Enchanted April by Elizabeth Von Arnim \n",
      "Alice\n",
      "The Adventures of Ferdinand Count Fathom \n",
      "Cranford by Elizabeth Cleghorn Gaskell \n",
      "The Adventures of Roderick Random by T.  Smollett \n",
      "A Modest Proposal by Jonathan Swift \n",
      "The Blue Castle\n",
      "The R\n",
      "My Life \n",
      "The Picture of Dorian Gray by Oscar Wilde \n",
      "The Importance of Being Earnest\n",
      "The Expedition of Humphry Clinker by T.  Smollett \n",
      "A Doll\n",
      "Twenty years after by Alexandre Dumas and Auguste Maquet \n",
      "Metamorphosis by Franz Kafka \n",
      "History of Tom Jones, a Foundling by Henry Fielding \n",
      "The Scarlet Letter by Nathaniel Hawthorne \n",
      "Adventures of Huckleberry Finn by Mark Twain \n",
      "A Tale of Two Cities by Charles Dickens \n",
      "As a thief in the night by R. Austin  Freeman \n",
      "Crime and Punishment by Fyodor Dostoyevsky \n",
      "White Nights and Other Stories by Fyodor Dostoyevsky \n",
      "Of holy disobedience by A. J.  Muste \n",
      "The Yellow Wallpaper by Charlotte Perkins Gilman \n",
      "Dracula by Bram Stoker \n",
      "Great Expectations by Charles Dickens \n",
      "The Iliad by Homer \n",
      "The Souls of Black Folk by W. E. B.  Du Bois \n",
      "A Christmas Carol in Prose; Being a Ghost Story of Christmas by Charles Dickens \n",
      "Jane Eyre\n",
      "Heart of Darkness by Joseph Conrad \n",
      "The Strange Case of Dr. Jekyll and Mr. Hyde by Robert Louis Stevenson \n",
      "Grimms\n",
      "The Prince by Niccol\n",
      "Frankenstein; Or, The Modern Prometheus by Mary Wollstonecraft Shelley \n",
      "The Brothers Karamazov by Fyodor Dostoyevsky \n",
      "Thus Spake Zarathustra\n",
      "Leviathan by Thomas Hobbes \n",
      "The Adventures of Sherlock Holmes by Arthur Conan Doyle \n",
      "The Odyssey by Homer \n",
      "War and Peace by graf Leo Tolstoy \n",
      "Narrative of the Life of Frederick Douglass, an American Slave by Frederick Douglass \n",
      "The unwelcome man \n",
      "Dubliners by James Joyce \n",
      "The Spy by James Fenimore Cooper \n",
      "Tractatus Logico\n",
      "The Interesting Narrative of the Life of Olaudah Equiano, Or Gustavus Vassa, The African by Equiano \n",
      "Frankenstein; Or, The Modern Prometheus by Mary Wollstonecraft Shelley \n",
      "Wuthering Heights by Emily Bront\n",
      "Walden, and On The Duty Of Civil Disobedience by Henry David Thoreau \n",
      "The K\n",
      "The Prophet by Kahlil Gibran \n",
      "Don Quixote by Miguel de Cervantes Saavedra \n",
      "The Hound of the Baskervilles by Arthur Conan Doyle \n",
      "The Republic by Plato \n",
      "Flowers and their friends by Margaret Warner Morley \n",
      "The Wonderful Wizard of Oz by L. Frank  Baum \n",
      "The Confessions of St. Augustine by Bishop of Hippo Saint Augustine \n",
      "A Study in Scarlet by Arthur Conan Doyle \n",
      "The Count of Monte Cristo by Alexandre Dumas and Auguste Maquet \n",
      "The Problems of Philosophy by Bertrand Russell \n",
      "Anne of Green Gables by L. M.  Montgomery \n",
      "Peter Pan by J. M.  Barrie \n",
      "Ulysses by James Joyce \n",
      "Beowulf\n",
      "The Adventures of Tom Sawyer, Complete by Mark Twain \n",
      "Little Women by Louisa May Alcott \n",
      "Winnie\n",
      "Narrative of the Captivity and Restoration of Mrs. Mary Rowlandson by Mary White Rowlandson \n",
      "Second Treatise of Government by John Locke \n",
      "Gulliver\n",
      "The Works of Edgar Allan Poe \n",
      "The King in Yellow by Robert W.  Chambers \n",
      "Candide by Voltaire \n",
      "Emma by Jane Austen \n",
      "The King James Version of the Bible \n",
      "Treasure Island by Robert Louis Stevenson \n",
      "Songs of Innocence and of Experience by William Blake \n",
      "The War of the Worlds by H. G.  Wells \n",
      "Autobiography of Benjamin Franklin by Benjamin Franklin \n",
      "The divine comedy by Dante Alighieri \n",
      "The Romance of Lust\n",
      "Le Morte d\n",
      "The Philippines a Century Hence by José Rizal \n",
      "Meditations by Emperor of Rome Marcus Aurelius \n",
      "The Legend of Sleepy Hollow by Washington Irving \n",
      "Beyond Good and Evil by Friedrich Wilhelm Nietzsche \n",
      "The Kama Sutra of Vatsyayana by Vatsyayana \n",
      "Lord Lister No. \n",
      "The Awakening, and Selected Short Stories by Kate Chopin \n"
     ]
    }
   ],
   "source": [
    "#first 7 are empty top \n",
    "for name in lst_titles[8:]:\n",
    "    print(name)"
   ]
  },
  {
   "cell_type": "markdown",
   "id": "75d5a28b",
   "metadata": {},
   "source": [
    "###### End of activity 9"
   ]
  },
  {
   "cell_type": "markdown",
   "id": "4fcede1f",
   "metadata": {},
   "source": [
    "### Exercise 2\n",
    "#### Activity 10: Building Your Own Movie Database by Reading an API."
   ]
  },
  {
   "cell_type": "code",
   "execution_count": 2,
   "id": "a5d36013",
   "metadata": {},
   "outputs": [],
   "source": [
    "#step 1. import related library (done at beginning of notebook)\n",
    "\n",
    "#step 2. Get API key and store in a file (done outside the notebook)\n",
    "\n",
    "#step 3 & 4. read key from file, use a self-defined function\n",
    "def get_file_contents(filename):\n",
    "    try:\n",
    "        with open(filename, 'r') as f:\n",
    "            return f.read().strip()\n",
    "    except FileNotFoundError:\n",
    "        print(\"'%s' file not found\" % filename)\n",
    "\n",
    "        \n",
    "apikey = get_file_contents('key.txt')  \n",
    "#print(apikey)"
   ]
  },
  {
   "cell_type": "code",
   "execution_count": 3,
   "id": "dddddf00",
   "metadata": {},
   "outputs": [],
   "source": [
    "# step 5 &6. assembly the url together\n",
    "BaseURL = 'http://www.omdbapi.com/?'\n",
    "mykey = '&apikey='+ apikey\n",
    "a = 'Titanic'\n",
    "url = BaseURL + 't=' +str(a) + mykey\n",
    "#print(url)"
   ]
  },
  {
   "cell_type": "code",
   "execution_count": 5,
   "id": "cb037833",
   "metadata": {},
   "outputs": [],
   "source": [
    "# activity 7. Write a utility function called print_json to print the movie data from a JSON file \n",
    "# assign the key, use key grab info value inside each key\n",
    "def print_json(json_data):\n",
    "    list_keys=['Title', 'Year', 'Rated', 'Released', 'Runtime', 'Genre', 'Director', 'Writer', \n",
    "               'Actors', 'Plot', 'Language', 'Country', 'Awards', 'Ratings', \n",
    "               'Metascore', 'imdbRating', 'imdbVotes', 'imdbID']\n",
    "    print(\"-\"*50)\n",
    "    for k in list_keys:\n",
    "        if k in list(json_data.keys()):\n",
    "            print(f\"{k}: {json_data[k]}\")\n",
    "    print(\"-\"*50)"
   ]
  },
  {
   "cell_type": "code",
   "execution_count": 6,
   "id": "7e23407b",
   "metadata": {},
   "outputs": [],
   "source": [
    "''' activity 8. Write a utility function to download a poster of the movie \n",
    "    based on the information from the JSON dataset and save it in your local folder\n",
    "    \n",
    "    \"Poster\":\"https://m.media-amazon.com/images/M/MV5BMDdmZGU3NDQtY2E5My00ZTliLWIzOTUtMTY4ZGI1YjdiNjk3XkEyXkFqcGdeQXVyNTA4NzY1MzY@._V1_SX300.jpg\"\n",
    "'''\n",
    "def save_poster(json_data):\n",
    "    import os\n",
    "    title = json_data['Title']\n",
    "    #the poster file link is inside Poster key\n",
    "    poster_url = json_data['Poster']\n",
    "    \n",
    "    # the link end with ',jpg',so pick it up as last item in splited list \n",
    "    poster_file_extension=poster_url.split('.')[-1]\n",
    "    \n",
    "    # Reads again using the image url\n",
    "    poster_data = urllib.request.urlopen(poster_url).read()\n",
    "    \n",
    "    #read the current directory location using getcwd, then append a new directory as Poster\n",
    "    savelocation=os.getcwd()+'\\\\'+'Posters'+'\\\\'\n",
    "    #print(savelocation)\n",
    "    \n",
    "    # Creates new directory using os.mkdir.\n",
    "    if not os.path.isdir(savelocation):\n",
    "        os.mkdir(savelocation)\n",
    "    \n",
    "    # reassembly the file name, write using binary format\n",
    "    filename=savelocation+str(title)+'.'+poster_file_extension\n",
    "    f=open(filename,'wb')\n",
    "    f.write(poster_data)\n",
    "    f.close()"
   ]
  },
  {
   "cell_type": "code",
   "execution_count": 9,
   "id": "842bdcf8",
   "metadata": {},
   "outputs": [],
   "source": [
    "# activity 9. Write a utility function called search_movie to search for a movie by its name\n",
    "# print info first and save poster in your local folder\n",
    "\n",
    "def search_movie(title):\n",
    "    try:\n",
    "        url = BaseURL + 't=' +str(title) + mykey\n",
    "        print(f'Retrieving the data of \"{title}\" now... ')\n",
    "        print(url)\n",
    "        #standard step to open url and get jason data\n",
    "        uh = urllib.request.urlopen(url)\n",
    "        data = uh.read()\n",
    "        json_data=json.loads(data)\n",
    "        \n",
    "        if json_data['Response']=='True':\n",
    "            print_json(json_data)\n",
    "            # is poster value is not empty, then save it.\n",
    "            if json_data['Poster']!='N/A':\n",
    "                save_poster(json_data)\n",
    "        else:\n",
    "            print(\"Error encountered: \",json_data['Error'])\n",
    "    \n",
    "    except urllib.error.URLError as e:\n",
    "        print(f\"ERROR: {e.reason}\")"
   ]
  },
  {
   "cell_type": "code",
   "execution_count": 10,
   "id": "0342fdaf",
   "metadata": {},
   "outputs": [],
   "source": [
    "# activity 10. Write a utility function called search_movie to search for a movie by its name\n",
    "# print info first and save poster in your local folder\n",
    "\n",
    "def search_movie(title):\n",
    "    try:\n",
    "        url = BaseURL + 't=' +str(title) + mykey\n",
    "        print(f'Retrieving the data of \"{title}\" now... ')\n",
    "        print(url)\n",
    "        #standard steps to read url for jason data\n",
    "        uh = urllib.request.urlopen(url)\n",
    "        data = uh.read()\n",
    "        json_data=json.loads(data)\n",
    "        \n",
    "        if json_data['Response']=='True':\n",
    "            print_json(json_data)\n",
    "            #save when poster value is not empty\n",
    "            if json_data['Poster']!='N/A':\n",
    "                save_poster(json_data)\n",
    "        else:\n",
    "            print(\"Error encountered: \",json_data['Error'])\n",
    "    \n",
    "    except urllib.error.URLError as e:\n",
    "        print(f\"ERROR: {e.reason}\")"
   ]
  },
  {
   "cell_type": "code",
   "execution_count": 11,
   "id": "fdfb0e9d",
   "metadata": {},
   "outputs": [
    {
     "name": "stdout",
     "output_type": "stream",
     "text": [
      "Retrieving the data of \"Titanic\" now... \n",
      "http://www.omdbapi.com/?t=Titanic&apikey=c5b5cca9\n",
      "--------------------------------------------------\n",
      "Title: Titanic\n",
      "Year: 1997\n",
      "Rated: PG-13\n",
      "Released: 19 Dec 1997\n",
      "Runtime: 194 min\n",
      "Genre: Drama, Romance\n",
      "Director: James Cameron\n",
      "Writer: James Cameron\n",
      "Actors: Leonardo DiCaprio, Kate Winslet, Billy Zane\n",
      "Plot: A seventeen-year-old aristocrat falls in love with a kind but poor artist aboard the luxurious, ill-fated R.M.S. Titanic.\n",
      "Language: English, Swedish, Italian, French\n",
      "Country: United States, Mexico\n",
      "Awards: Won 11 Oscars. 126 wins & 83 nominations total\n",
      "Ratings: [{'Source': 'Internet Movie Database', 'Value': '7.9/10'}, {'Source': 'Rotten Tomatoes', 'Value': '88%'}, {'Source': 'Metacritic', 'Value': '75/100'}]\n",
      "Metascore: 75\n",
      "imdbRating: 7.9\n",
      "imdbVotes: 1,261,488\n",
      "imdbID: tt0120338\n",
      "--------------------------------------------------\n"
     ]
    }
   ],
   "source": [
    "# activity 10. try it on movie Titanic\n",
    "search_movie(\"Titanic\")"
   ]
  },
  {
   "cell_type": "code",
   "execution_count": 14,
   "id": "14125dab",
   "metadata": {},
   "outputs": [
    {
     "name": "stdout",
     "output_type": "stream",
     "text": [
      "Retrieving the data of \"it-is-error\" now... \n",
      "http://www.omdbapi.com/?t=it-is-error&apikey=c5b5cca9\n",
      "Error encountered:  Movie not found!\n"
     ]
    }
   ],
   "source": [
    "# activity 11: try it on a wrong movie title\n",
    "search_movie(\"it-is-error\")"
   ]
  },
  {
   "cell_type": "markdown",
   "id": "ae554322",
   "metadata": {},
   "source": [
    "###### End of activity 10"
   ]
  },
  {
   "cell_type": "markdown",
   "id": "5848eb09",
   "metadata": {},
   "source": [
    "### Exercise 3\n",
    "##### Connect to an API of your choice and do a simple data pull "
   ]
  },
  {
   "cell_type": "code",
   "execution_count": 15,
   "id": "756df715",
   "metadata": {},
   "outputs": [],
   "source": [
    "# use us population website and pull out data and form a dataframe\n",
    "# this site do not need api key\n",
    "URL = \"https://datausa.io/api/data?drilldowns=Nation&measures=Population\"\n",
    "\n",
    "#use requests.get\n",
    "data = requests.get(URL).json()"
   ]
  },
  {
   "cell_type": "code",
   "execution_count": 16,
   "id": "88b07076",
   "metadata": {},
   "outputs": [
    {
     "data": {
      "text/html": [
       "<div>\n",
       "<style scoped>\n",
       "    .dataframe tbody tr th:only-of-type {\n",
       "        vertical-align: middle;\n",
       "    }\n",
       "\n",
       "    .dataframe tbody tr th {\n",
       "        vertical-align: top;\n",
       "    }\n",
       "\n",
       "    .dataframe thead th {\n",
       "        text-align: right;\n",
       "    }\n",
       "</style>\n",
       "<table border=\"1\" class=\"dataframe\">\n",
       "  <thead>\n",
       "    <tr style=\"text-align: right;\">\n",
       "      <th></th>\n",
       "      <th>ID Nation</th>\n",
       "      <th>Nation</th>\n",
       "      <th>ID Year</th>\n",
       "      <th>Year</th>\n",
       "      <th>Population</th>\n",
       "      <th>Slug Nation</th>\n",
       "    </tr>\n",
       "  </thead>\n",
       "  <tbody>\n",
       "    <tr>\n",
       "      <th>0</th>\n",
       "      <td>01000US</td>\n",
       "      <td>United States</td>\n",
       "      <td>2021</td>\n",
       "      <td>2021</td>\n",
       "      <td>329725481</td>\n",
       "      <td>united-states</td>\n",
       "    </tr>\n",
       "    <tr>\n",
       "      <th>1</th>\n",
       "      <td>01000US</td>\n",
       "      <td>United States</td>\n",
       "      <td>2020</td>\n",
       "      <td>2020</td>\n",
       "      <td>326569308</td>\n",
       "      <td>united-states</td>\n",
       "    </tr>\n",
       "    <tr>\n",
       "      <th>2</th>\n",
       "      <td>01000US</td>\n",
       "      <td>United States</td>\n",
       "      <td>2019</td>\n",
       "      <td>2019</td>\n",
       "      <td>324697795</td>\n",
       "      <td>united-states</td>\n",
       "    </tr>\n",
       "    <tr>\n",
       "      <th>3</th>\n",
       "      <td>01000US</td>\n",
       "      <td>United States</td>\n",
       "      <td>2018</td>\n",
       "      <td>2018</td>\n",
       "      <td>322903030</td>\n",
       "      <td>united-states</td>\n",
       "    </tr>\n",
       "    <tr>\n",
       "      <th>4</th>\n",
       "      <td>01000US</td>\n",
       "      <td>United States</td>\n",
       "      <td>2017</td>\n",
       "      <td>2017</td>\n",
       "      <td>321004407</td>\n",
       "      <td>united-states</td>\n",
       "    </tr>\n",
       "    <tr>\n",
       "      <th>5</th>\n",
       "      <td>01000US</td>\n",
       "      <td>United States</td>\n",
       "      <td>2016</td>\n",
       "      <td>2016</td>\n",
       "      <td>318558162</td>\n",
       "      <td>united-states</td>\n",
       "    </tr>\n",
       "    <tr>\n",
       "      <th>6</th>\n",
       "      <td>01000US</td>\n",
       "      <td>United States</td>\n",
       "      <td>2015</td>\n",
       "      <td>2015</td>\n",
       "      <td>316515021</td>\n",
       "      <td>united-states</td>\n",
       "    </tr>\n",
       "    <tr>\n",
       "      <th>7</th>\n",
       "      <td>01000US</td>\n",
       "      <td>United States</td>\n",
       "      <td>2014</td>\n",
       "      <td>2014</td>\n",
       "      <td>314107084</td>\n",
       "      <td>united-states</td>\n",
       "    </tr>\n",
       "    <tr>\n",
       "      <th>8</th>\n",
       "      <td>01000US</td>\n",
       "      <td>United States</td>\n",
       "      <td>2013</td>\n",
       "      <td>2013</td>\n",
       "      <td>311536594</td>\n",
       "      <td>united-states</td>\n",
       "    </tr>\n",
       "  </tbody>\n",
       "</table>\n",
       "</div>"
      ],
      "text/plain": [
       "  ID Nation         Nation  ID Year  Year  Population    Slug Nation\n",
       "0   01000US  United States     2021  2021   329725481  united-states\n",
       "1   01000US  United States     2020  2020   326569308  united-states\n",
       "2   01000US  United States     2019  2019   324697795  united-states\n",
       "3   01000US  United States     2018  2018   322903030  united-states\n",
       "4   01000US  United States     2017  2017   321004407  united-states\n",
       "5   01000US  United States     2016  2016   318558162  united-states\n",
       "6   01000US  United States     2015  2015   316515021  united-states\n",
       "7   01000US  United States     2014  2014   314107084  united-states\n",
       "8   01000US  United States     2013  2013   311536594  united-states"
      ]
     },
     "execution_count": 16,
     "metadata": {},
     "output_type": "execute_result"
    }
   ],
   "source": [
    "# data is inside data key, use normalize to get a flat table\n",
    "df = data['data']\n",
    "df1=pd.json_normalize(df, max_level=0)\n",
    "\n",
    "df1"
   ]
  },
  {
   "cell_type": "markdown",
   "id": "922c0046",
   "metadata": {},
   "source": [
    "###### end of exercise 3"
   ]
  },
  {
   "cell_type": "markdown",
   "id": "f8f15144",
   "metadata": {},
   "source": [
    "### Exercise 4\n",
    "##### use data to complete 3 of the following visualizations"
   ]
  },
  {
   "cell_type": "code",
   "execution_count": 17,
   "id": "312a8494",
   "metadata": {},
   "outputs": [
    {
     "data": {
      "text/html": [
       "<div>\n",
       "<style scoped>\n",
       "    .dataframe tbody tr th:only-of-type {\n",
       "        vertical-align: middle;\n",
       "    }\n",
       "\n",
       "    .dataframe tbody tr th {\n",
       "        vertical-align: top;\n",
       "    }\n",
       "\n",
       "    .dataframe thead th {\n",
       "        text-align: right;\n",
       "    }\n",
       "</style>\n",
       "<table border=\"1\" class=\"dataframe\">\n",
       "  <thead>\n",
       "    <tr style=\"text-align: right;\">\n",
       "      <th></th>\n",
       "      <th>crim</th>\n",
       "      <th>zn</th>\n",
       "      <th>indus</th>\n",
       "      <th>rm</th>\n",
       "      <th>age</th>\n",
       "      <th>dis</th>\n",
       "      <th>rad</th>\n",
       "      <th>tax</th>\n",
       "      <th>ptratio</th>\n",
       "      <th>price</th>\n",
       "    </tr>\n",
       "  </thead>\n",
       "  <tbody>\n",
       "    <tr>\n",
       "      <th>0</th>\n",
       "      <td>0.00632</td>\n",
       "      <td>18.0</td>\n",
       "      <td>2.31</td>\n",
       "      <td>6.575</td>\n",
       "      <td>65.2</td>\n",
       "      <td>4.0900</td>\n",
       "      <td>1</td>\n",
       "      <td>296</td>\n",
       "      <td>15.3</td>\n",
       "      <td>24.0</td>\n",
       "    </tr>\n",
       "    <tr>\n",
       "      <th>1</th>\n",
       "      <td>0.02731</td>\n",
       "      <td>0.0</td>\n",
       "      <td>7.07</td>\n",
       "      <td>6.421</td>\n",
       "      <td>78.9</td>\n",
       "      <td>4.9671</td>\n",
       "      <td>2</td>\n",
       "      <td>242</td>\n",
       "      <td>17.8</td>\n",
       "      <td>21.6</td>\n",
       "    </tr>\n",
       "    <tr>\n",
       "      <th>2</th>\n",
       "      <td>0.02729</td>\n",
       "      <td>0.0</td>\n",
       "      <td>7.07</td>\n",
       "      <td>7.185</td>\n",
       "      <td>61.1</td>\n",
       "      <td>4.9671</td>\n",
       "      <td>2</td>\n",
       "      <td>242</td>\n",
       "      <td>17.8</td>\n",
       "      <td>34.7</td>\n",
       "    </tr>\n",
       "    <tr>\n",
       "      <th>3</th>\n",
       "      <td>0.03237</td>\n",
       "      <td>0.0</td>\n",
       "      <td>2.18</td>\n",
       "      <td>6.998</td>\n",
       "      <td>45.8</td>\n",
       "      <td>6.0622</td>\n",
       "      <td>3</td>\n",
       "      <td>222</td>\n",
       "      <td>18.7</td>\n",
       "      <td>33.4</td>\n",
       "    </tr>\n",
       "    <tr>\n",
       "      <th>4</th>\n",
       "      <td>0.06905</td>\n",
       "      <td>0.0</td>\n",
       "      <td>2.18</td>\n",
       "      <td>7.147</td>\n",
       "      <td>54.2</td>\n",
       "      <td>6.0622</td>\n",
       "      <td>3</td>\n",
       "      <td>222</td>\n",
       "      <td>18.7</td>\n",
       "      <td>36.2</td>\n",
       "    </tr>\n",
       "    <tr>\n",
       "      <th>5</th>\n",
       "      <td>0.02985</td>\n",
       "      <td>0.0</td>\n",
       "      <td>2.18</td>\n",
       "      <td>6.430</td>\n",
       "      <td>58.7</td>\n",
       "      <td>6.0622</td>\n",
       "      <td>3</td>\n",
       "      <td>222</td>\n",
       "      <td>18.7</td>\n",
       "      <td>28.7</td>\n",
       "    </tr>\n",
       "    <tr>\n",
       "      <th>6</th>\n",
       "      <td>0.08829</td>\n",
       "      <td>12.5</td>\n",
       "      <td>7.87</td>\n",
       "      <td>6.012</td>\n",
       "      <td>66.6</td>\n",
       "      <td>5.5605</td>\n",
       "      <td>5</td>\n",
       "      <td>311</td>\n",
       "      <td>15.2</td>\n",
       "      <td>22.9</td>\n",
       "    </tr>\n",
       "    <tr>\n",
       "      <th>7</th>\n",
       "      <td>0.14455</td>\n",
       "      <td>12.5</td>\n",
       "      <td>7.87</td>\n",
       "      <td>6.172</td>\n",
       "      <td>96.1</td>\n",
       "      <td>5.9505</td>\n",
       "      <td>5</td>\n",
       "      <td>311</td>\n",
       "      <td>15.2</td>\n",
       "      <td>27.1</td>\n",
       "    </tr>\n",
       "    <tr>\n",
       "      <th>8</th>\n",
       "      <td>0.21124</td>\n",
       "      <td>12.5</td>\n",
       "      <td>7.87</td>\n",
       "      <td>5.631</td>\n",
       "      <td>100.0</td>\n",
       "      <td>6.0821</td>\n",
       "      <td>5</td>\n",
       "      <td>311</td>\n",
       "      <td>15.2</td>\n",
       "      <td>16.5</td>\n",
       "    </tr>\n",
       "    <tr>\n",
       "      <th>9</th>\n",
       "      <td>0.17004</td>\n",
       "      <td>12.5</td>\n",
       "      <td>7.87</td>\n",
       "      <td>6.004</td>\n",
       "      <td>85.9</td>\n",
       "      <td>6.5921</td>\n",
       "      <td>5</td>\n",
       "      <td>311</td>\n",
       "      <td>15.2</td>\n",
       "      <td>18.9</td>\n",
       "    </tr>\n",
       "  </tbody>\n",
       "</table>\n",
       "</div>"
      ],
      "text/plain": [
       "      crim    zn  indus     rm    age     dis  rad  tax  ptratio  price\n",
       "0  0.00632  18.0   2.31  6.575   65.2  4.0900    1  296     15.3   24.0\n",
       "1  0.02731   0.0   7.07  6.421   78.9  4.9671    2  242     17.8   21.6\n",
       "2  0.02729   0.0   7.07  7.185   61.1  4.9671    2  242     17.8   34.7\n",
       "3  0.03237   0.0   2.18  6.998   45.8  6.0622    3  222     18.7   33.4\n",
       "4  0.06905   0.0   2.18  7.147   54.2  6.0622    3  222     18.7   36.2\n",
       "5  0.02985   0.0   2.18  6.430   58.7  6.0622    3  222     18.7   28.7\n",
       "6  0.08829  12.5   7.87  6.012   66.6  5.5605    5  311     15.2   22.9\n",
       "7  0.14455  12.5   7.87  6.172   96.1  5.9505    5  311     15.2   27.1\n",
       "8  0.21124  12.5   7.87  5.631  100.0  6.0821    5  311     15.2   16.5\n",
       "9  0.17004  12.5   7.87  6.004   85.9  6.5921    5  311     15.2   18.9"
      ]
     },
     "execution_count": 17,
     "metadata": {},
     "output_type": "execute_result"
    }
   ],
   "source": [
    "# all packages have been loaded up front\n",
    "# using bostonhousing.csv data first\n",
    "\n",
    "#import data\n",
    "df=pd.read_csv(\"BostonHousing.csv\")\n",
    "#df.descibe()\n",
    "\n",
    "#renmae medv to price\n",
    "df.rename(columns = {'medv':'price'}, inplace = True) \n",
    "#create a smaller subset\n",
    "df_sub=df[['crim','zn','indus','rm','age','dis','rad','tax','ptratio','price']]\n",
    "df_sub.head(10)"
   ]
  },
  {
   "cell_type": "code",
   "execution_count": 18,
   "id": "20ff1bbd",
   "metadata": {},
   "outputs": [
    {
     "data": {
      "image/png": "[encoded data removed]",
      "text/plain": [
       "<Figure size 640x480 with 1 Axes>"
      ]
     },
     "metadata": {},
     "output_type": "display_data"
    }
   ],
   "source": [
    "#create a histrogram chart\n",
    "plt.title(\"Plot of age\",fontsize=15)\n",
    "plt.hist(df_sub['age'],bins=18)\n",
    "plt.show()"
   ]
  },
  {
   "cell_type": "code",
   "execution_count": 19,
   "id": "1a24167f",
   "metadata": {},
   "outputs": [
    {
     "data": {
      "image/png": "[encoded data removed]",
      "text/plain": [
       "<Figure size 640x480 with 1 Axes>"
      ]
     },
     "metadata": {},
     "output_type": "display_data"
    }
   ],
   "source": [
    "#create a scatter chart\n",
    "plt.scatter(df_sub['crim'],df_sub['price'])\n",
    "plt.title(\"Crime rate vs. Price plot\", fontsize=18)\n",
    "plt.xlabel(\"Crime rate\",fontsize=15)\n",
    "plt.ylabel(\"Price\",fontsize=15)\n",
    "plt.show()"
   ]
  },
  {
   "cell_type": "code",
   "execution_count": 20,
   "id": "6eb9a46c",
   "metadata": {},
   "outputs": [
    {
     "data": {
      "image/png": "[encoded data removed]",
      "text/plain": [
       "<Figure size 640x480 with 1 Axes>"
      ]
     },
     "metadata": {},
     "output_type": "display_data"
    }
   ],
   "source": [
    "# create a density chart\n",
    "df_sub.age.plot.density(color='green') \n",
    "plt.title('Age density') \n",
    "plt.show()"
   ]
  },
  {
   "cell_type": "code",
   "execution_count": 21,
   "id": "f5911a65",
   "metadata": {},
   "outputs": [
    {
     "data": {
      "text/plain": [
       "Text(0.5, 1.0, 'ease to access highway (larger is better)')"
      ]
     },
     "execution_count": 21,
     "metadata": {},
     "output_type": "execute_result"
    },
    {
     "data": {
      "image/png": "[encoded data removed]",
      "text/plain": [
       "<Figure size 640x480 with 1 Axes>"
      ]
     },
     "metadata": {},
     "output_type": "display_data"
    }
   ],
   "source": [
    "# last, create a pie chart\n",
    "data =df_sub.rad.value_counts()\n",
    "\n",
    "data.plot(kind='pie', autopct='%0.1f%%')\n",
    "plt.title('ease to access highway (larger is better)')"
   ]
  },
  {
   "cell_type": "markdown",
   "id": "76e9e893",
   "metadata": {},
   "source": [
    "###### end of exercise"
   ]
  },
  {
   "cell_type": "code",
   "execution_count": null,
   "id": "d49ca15a",
   "metadata": {},
   "outputs": [],
   "source": []
  }
 ],
 "metadata": {
  "kernelspec": {
   "display_name": "Python 3 (ipykernel)",
   "language": "python",
   "name": "python3"
  },
  "language_info": {
   "codemirror_mode": {
    "name": "ipython",
    "version": 3
   },
   "file_extension": ".py",
   "mimetype": "text/x-python",
   "name": "python",
   "nbconvert_exporter": "python",
   "pygments_lexer": "ipython3",
   "version": "3.11.4"
  }
 },
 "nbformat": 4,
 "nbformat_minor": 5
}
